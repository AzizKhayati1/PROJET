{
 "cells": [
  {
   "cell_type": "code",
   "execution_count": null,
   "id": "f4b7f625-5da6-48e0-9d88-f9684fc13eca",
   "metadata": {
    "tags": []
   },
   "outputs": [
    {
     "name": "stdin",
     "output_type": "stream",
     "text": [
      "how many continents are in the world?\n",
      "(a)5\n",
      "(b)7 b\n"
     ]
    },
    {
     "name": "stdout",
     "output_type": "stream",
     "text": [
      "Correct !!\n",
      "you got 1 out of 6\n"
     ]
    }
   ],
   "source": [
    "#TIMER\n",
    "import time \n",
    "def countdown(t) :  \n",
    "    while t : \n",
    "        minutes,seconds = divmod(t,60)\n",
    "        timer = '{:02d}:{:02d}'.format(minutes, seconds)\n",
    "        print(timer, end=\"\\r\")\n",
    "        time.sleep(1)\n",
    "        t -= 1 \n",
    "#quizclass\n",
    "class Question:\n",
    "     def __init__(self, prompt, answer):\n",
    "        self.prompt = prompt\n",
    "        self.answer = answer\n",
    "\n",
    "question_prompts = [\n",
    "     \"how many continents are in the world?\\n(a)5\\n(b)7\",\n",
    "     \"What is the capital of france?\\n(a) toulouse\\n(b)Paris\",\n",
    "    \"who invented facebook\\n(a) mark zuckerberg \\n(b) jeff bezos \" ,\n",
    "    \"who is the current president of the united states of America ? \\n(a) Barack Obama \\n(b) joe biden\" ,\n",
    "    \"who is the richest man in the world ?\\n(a) Elon Musk\\n(b) Samy belhaj \" ,\n",
    "    \"Who won the last  football world cup ?\\n(a) France\\n(b) Brazil \\n(c) Mozambique \" \n",
    "    \" \"\n",
    "]\n",
    "\n",
    "questions = [\n",
    "     Question(question_prompts[0], \"b\"),\n",
    "     Question(question_prompts[1], \"b\"),\n",
    "     Question(question_prompts[2], \"a\") ,\n",
    "     Question(question_prompts[3], \"b\") ,\n",
    "     Question(question_prompts[4], \"a\"),\n",
    "     Question(question_prompts[5], \"a\"),\n",
    "]\n",
    "\n",
    "def run_quiz(questions):\n",
    "    score = 0\n",
    "    for question in questions:\n",
    "        answer = input(question.prompt)\n",
    "        countdown(3)\n",
    "        if answer == question.answer:\n",
    "            score += 1\n",
    "            print(\"Correct !!\")\n",
    "        else :\n",
    "            print(\"WRONG!!!\")\n",
    "            \n",
    "\n",
    "        print(\"you got\", score, \"out of\", len(questions))\n",
    "\n",
    "run_quiz(questions)\n"
   ]
  },
  {
   "cell_type": "code",
   "execution_count": null,
   "id": "d8532b18-e678-407c-af48-f160fe7e1e85",
   "metadata": {},
   "outputs": [],
   "source": []
  },
  {
   "cell_type": "code",
   "execution_count": null,
   "id": "4fad940d-195f-48bf-9767-5406df998394",
   "metadata": {},
   "outputs": [],
   "source": []
  },
  {
   "cell_type": "code",
   "execution_count": null,
   "id": "7a2e3c9d-0a67-4118-ad23-f28d85e7fdb8",
   "metadata": {},
   "outputs": [],
   "source": []
  }
 ],
 "metadata": {
  "kernelspec": {
   "display_name": "Python 3",
   "language": "python",
   "name": "python3"
  },
  "language_info": {
   "codemirror_mode": {
    "name": "ipython",
    "version": 3
   },
   "file_extension": ".py",
   "mimetype": "text/x-python",
   "name": "python",
   "nbconvert_exporter": "python",
   "pygments_lexer": "ipython3",
   "version": "3.8.8"
  }
 },
 "nbformat": 4,
 "nbformat_minor": 5
}
